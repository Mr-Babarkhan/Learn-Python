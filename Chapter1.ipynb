{
  "nbformat": 4,
  "nbformat_minor": 0,
  "metadata": {
    "colab": {
      "provenance": [],
      "gpuType": "T4",
      "authorship_tag": "ABX9TyNLxqDdcas4fhPkwJW2qIZN",
      "include_colab_link": true
    },
    "kernelspec": {
      "name": "python3",
      "display_name": "Python 3"
    },
    "language_info": {
      "name": "python"
    },
    "accelerator": "GPU"
  },
  "cells": [
    {
      "cell_type": "markdown",
      "metadata": {
        "id": "view-in-github",
        "colab_type": "text"
      },
      "source": [
        "<a href=\"https://colab.research.google.com/github/Mr-Babarkhan/Learn-Python/blob/main/Chapter1.ipynb\" target=\"_parent\"><img src=\"https://colab.research.google.com/assets/colab-badge.svg\" alt=\"Open In Colab\"/></a>"
      ]
    },
    {
      "cell_type": "code",
      "execution_count": null,
      "metadata": {
        "colab": {
          "base_uri": "https://localhost:8080/"
        },
        "id": "lxvWCxc8s-Q1",
        "outputId": "ff1b4ca9-9313-469a-99ef-c3d0b9ef35cd"
      },
      "outputs": [
        {
          "output_type": "stream",
          "name": "stdout",
          "text": [
            "hi\n"
          ]
        }
      ],
      "source": [
        "print(\"hi\")"
      ]
    },
    {
      "cell_type": "code",
      "source": [
        "a=\"babar\";\n",
        "print(a)\n",
        "a=7;\n",
        "print(a)"
      ],
      "metadata": {
        "colab": {
          "base_uri": "https://localhost:8080/"
        },
        "id": "hWPkmZI8v88-",
        "outputId": "cf63860d-aaa1-414d-fb81-ea777abe83ee"
      },
      "execution_count": null,
      "outputs": [
        {
          "output_type": "stream",
          "name": "stdout",
          "text": [
            "babar\n",
            "7\n"
          ]
        }
      ]
    },
    {
      "cell_type": "code",
      "source": [
        "name :str=\"babar\";\n",
        "print(name)\n",
        "\n",
        "a:int=\"pakistan\"\n",
        "print(a)"
      ],
      "metadata": {
        "colab": {
          "base_uri": "https://localhost:8080/"
        },
        "id": "kEFS6KUew9gu",
        "outputId": "62469b0a-b7db-437f-abce-e38456eff892"
      },
      "execution_count": null,
      "outputs": [
        {
          "output_type": "stream",
          "name": "stdout",
          "text": [
            "babar\n",
            "pakistan\n"
          ]
        }
      ]
    },
    {
      "cell_type": "code",
      "source": [
        "name :str=\"babar\";\n",
        "print(name)\n",
        "\n",
        "a:int=\"pakistan\"\n",
        "print(a)"
      ],
      "metadata": {
        "colab": {
          "base_uri": "https://localhost:8080/"
        },
        "id": "q4pQUiK2z7qi",
        "outputId": "c49ef064-514f-48b5-d86a-39661e863d2d"
      },
      "execution_count": null,
      "outputs": [
        {
          "output_type": "stream",
          "name": "stdout",
          "text": [
            "babar\n",
            "pakistan\n"
          ]
        }
      ]
    },
    {
      "cell_type": "code",
      "source": [
        "name :str=\"babar\";\n",
        "print(type(name));\n",
        "print(dir(name))\n",
        "print(id(name))"
      ],
      "metadata": {
        "colab": {
          "base_uri": "https://localhost:8080/"
        },
        "id": "xoxCTgGM1QGR",
        "outputId": "24c6f6d7-3353-42a3-b084-d0cf377a5cab"
      },
      "execution_count": null,
      "outputs": [
        {
          "output_type": "stream",
          "name": "stdout",
          "text": [
            "<class 'str'>\n",
            "['__add__', '__class__', '__contains__', '__delattr__', '__dir__', '__doc__', '__eq__', '__format__', '__ge__', '__getattribute__', '__getitem__', '__getnewargs__', '__gt__', '__hash__', '__init__', '__init_subclass__', '__iter__', '__le__', '__len__', '__lt__', '__mod__', '__mul__', '__ne__', '__new__', '__reduce__', '__reduce_ex__', '__repr__', '__rmod__', '__rmul__', '__setattr__', '__sizeof__', '__str__', '__subclasshook__', 'capitalize', 'casefold', 'center', 'count', 'encode', 'endswith', 'expandtabs', 'find', 'format', 'format_map', 'index', 'isalnum', 'isalpha', 'isascii', 'isdecimal', 'isdigit', 'isidentifier', 'islower', 'isnumeric', 'isprintable', 'isspace', 'istitle', 'isupper', 'join', 'ljust', 'lower', 'lstrip', 'maketrans', 'partition', 'removeprefix', 'removesuffix', 'replace', 'rfind', 'rindex', 'rjust', 'rpartition', 'rsplit', 'rstrip', 'split', 'splitlines', 'startswith', 'strip', 'swapcase', 'title', 'translate', 'upper', 'zfill']\n",
            "136622094604656\n"
          ]
        }
      ]
    },
    {
      "cell_type": "code",
      "source": [
        "bk :list[str]=['a','s']\n",
        "print(type(bk))\n",
        "print(id(bk))\n",
        "print(dir(bk))"
      ],
      "metadata": {
        "colab": {
          "base_uri": "https://localhost:8080/"
        },
        "id": "jOGHX2Ru2DbU",
        "outputId": "eb512f02-7466-42a3-f906-3f6e7de34a2c"
      },
      "execution_count": null,
      "outputs": [
        {
          "output_type": "stream",
          "name": "stdout",
          "text": [
            "<class 'list'>\n",
            "136622094527488\n",
            "['__add__', '__class__', '__class_getitem__', '__contains__', '__delattr__', '__delitem__', '__dir__', '__doc__', '__eq__', '__format__', '__ge__', '__getattribute__', '__getitem__', '__gt__', '__hash__', '__iadd__', '__imul__', '__init__', '__init_subclass__', '__iter__', '__le__', '__len__', '__lt__', '__mul__', '__ne__', '__new__', '__reduce__', '__reduce_ex__', '__repr__', '__reversed__', '__rmul__', '__setattr__', '__setitem__', '__sizeof__', '__str__', '__subclasshook__', 'append', 'clear', 'copy', 'count', 'extend', 'index', 'insert', 'pop', 'remove', 'reverse', 'sort']\n"
          ]
        }
      ]
    },
    {
      "cell_type": "code",
      "source": [
        "bk :set[str]={'1','2','5','6','6','5'}\n",
        "\n",
        "print(type(bk))\n",
        "print(id(bk))\n",
        "print(bk)"
      ],
      "metadata": {
        "colab": {
          "base_uri": "https://localhost:8080/"
        },
        "id": "p90qZptK2c9Y",
        "outputId": "d64d8166-df91-48fe-9b4b-0e81df3527c0"
      },
      "execution_count": null,
      "outputs": [
        {
          "output_type": "stream",
          "name": "stdout",
          "text": [
            "<class 'set'>\n",
            "136622306873344\n",
            "{'1', '6', '5', '2'}\n"
          ]
        }
      ]
    },
    {
      "cell_type": "code",
      "source": [
        "bk :dict[str,str]={'a':'1','b':'5','c':'6'}\n",
        "\n",
        "\n",
        "print(bk)"
      ],
      "metadata": {
        "colab": {
          "base_uri": "https://localhost:8080/"
        },
        "id": "qpMOTXw63XJc",
        "outputId": "a6032875-72b7-4860-87ec-b179907dc0a8"
      },
      "execution_count": null,
      "outputs": [
        {
          "output_type": "stream",
          "name": "stdout",
          "text": [
            "{'a': '1', 'b': '5', 'c': '6'}\n"
          ]
        }
      ]
    },
    {
      "cell_type": "code",
      "source": [
        "bk :tuple[int,str,float]=(11,\"umar\",23.2)\n",
        "\n",
        "# immmutable\n",
        "print(bk)"
      ],
      "metadata": {
        "colab": {
          "base_uri": "https://localhost:8080/"
        },
        "id": "oyY9vS_r4TtA",
        "outputId": "5e0329c6-864a-4b49-fd0b-74b771685f6a"
      },
      "execution_count": null,
      "outputs": [
        {
          "output_type": "stream",
          "name": "stdout",
          "text": [
            "(11, 'umar', 23.2)\n"
          ]
        }
      ]
    },
    {
      "cell_type": "markdown",
      "source": [
        "**Chapter 2**"
      ],
      "metadata": {
        "id": "VGdfw4Ws5k80"
      }
    },
    {
      "cell_type": "code",
      "source": [
        "# string defin ways\n",
        "a:str=\"pakistan zindabad\";\n",
        "print(a)"
      ],
      "metadata": {
        "colab": {
          "base_uri": "https://localhost:8080/"
        },
        "id": "PWA7g9645oVG",
        "outputId": "ef4dfcd8-7f65-4073-b6bc-72d25ef0336c"
      },
      "execution_count": null,
      "outputs": [
        {
          "output_type": "stream",
          "name": "stdout",
          "text": [
            "pakistan zindabad\n"
          ]
        }
      ]
    },
    {
      "cell_type": "code",
      "source": [
        "a:str=\"pakistan 's' zindabad\";\n",
        "print(a)\n",
        "print(type(a))"
      ],
      "metadata": {
        "colab": {
          "base_uri": "https://localhost:8080/"
        },
        "id": "rliUE38S54qK",
        "outputId": "1261a991-6a88-4794-d9ce-96bfb55f36da"
      },
      "execution_count": null,
      "outputs": [
        {
          "output_type": "stream",
          "name": "stdout",
          "text": [
            "pakistan 's' zindabad\n",
            "<class 'str'>\n"
          ]
        }
      ]
    },
    {
      "cell_type": "code",
      "source": [
        "a:str='pakistan \"s\" zindabad';\n",
        "print(a)\n",
        "print(type(a))"
      ],
      "metadata": {
        "colab": {
          "base_uri": "https://localhost:8080/"
        },
        "id": "XedT_OkW6Nay",
        "outputId": "0725c85c-722d-470c-d13a-8ce836218ff7"
      },
      "execution_count": null,
      "outputs": [
        {
          "output_type": "stream",
          "name": "stdout",
          "text": [
            "pakistan \"s\" zindabad\n",
            "<class 'str'>\n"
          ]
        }
      ]
    },
    {
      "cell_type": "code",
      "source": [
        "a:str=\"pakistan zindabad\\\n",
        " line 2\\\n",
        " line 3\"\n",
        "print(a)\n",
        "print(type(a))"
      ],
      "metadata": {
        "colab": {
          "base_uri": "https://localhost:8080/"
        },
        "id": "QW1AAplk7Exl",
        "outputId": "1b9f2ca1-7554-488b-d282-3547c4b4ad79"
      },
      "execution_count": null,
      "outputs": [
        {
          "output_type": "stream",
          "name": "stdout",
          "text": [
            "pakistan zindabad line 2 line 3\n",
            "<class 'str'>\n"
          ]
        }
      ]
    },
    {
      "cell_type": "code",
      "source": [
        "a:str=\"\"\"pakistan zindabad\\\n",
        "line 2\\\n",
        "line 3\"\"\"\n",
        "print(a)\n",
        "print(type(a))"
      ],
      "metadata": {
        "colab": {
          "base_uri": "https://localhost:8080/"
        },
        "id": "upxhuMIc7hlF",
        "outputId": "dc7956ef-acd3-4847-be4a-0569384d13a2"
      },
      "execution_count": null,
      "outputs": [
        {
          "output_type": "stream",
          "name": "stdout",
          "text": [
            "pakistan zindabadline 2line 3\n",
            "<class 'str'>\n"
          ]
        }
      ]
    },
    {
      "cell_type": "code",
      "source": [],
      "metadata": {
        "id": "-xCYxL7b7ytk"
      },
      "execution_count": null,
      "outputs": []
    },
    {
      "cell_type": "markdown",
      "source": [
        "**Concatination**\n"
      ],
      "metadata": {
        "id": "dGc0H-MZ70vF"
      }
    },
    {
      "cell_type": "code",
      "source": [
        "name:str=\"ali\"\n",
        "fname:str=\"khan\"\n",
        "age:int=123\n",
        "edu:str=\"BSCS\"\n",
        "\n",
        "card=str =\"PIAIC Student card\\nstudent name:\\t\"+name+\"\\n Father name:\\t\"+fname+\"\\nage\"+age\n",
        "print(card)"
      ],
      "metadata": {
        "colab": {
          "base_uri": "https://localhost:8080/",
          "height": 227
        },
        "id": "qFAvd8Pi761d",
        "outputId": "7d2783ab-55bd-4775-f8a0-db07e24ea71a"
      },
      "execution_count": null,
      "outputs": [
        {
          "output_type": "error",
          "ename": "TypeError",
          "evalue": "ignored",
          "traceback": [
            "\u001b[0;31m---------------------------------------------------------------------------\u001b[0m",
            "\u001b[0;31mTypeError\u001b[0m                                 Traceback (most recent call last)",
            "\u001b[0;32m<ipython-input-27-70114a10c60f>\u001b[0m in \u001b[0;36m<cell line: 6>\u001b[0;34m()\u001b[0m\n\u001b[1;32m      4\u001b[0m \u001b[0medu\u001b[0m\u001b[0;34m:\u001b[0m\u001b[0mstr\u001b[0m\u001b[0;34m=\u001b[0m\u001b[0;34m\"BSCS\"\u001b[0m\u001b[0;34m\u001b[0m\u001b[0;34m\u001b[0m\u001b[0m\n\u001b[1;32m      5\u001b[0m \u001b[0;34m\u001b[0m\u001b[0m\n\u001b[0;32m----> 6\u001b[0;31m \u001b[0mcard\u001b[0m\u001b[0;34m=\u001b[0m\u001b[0mstr\u001b[0m \u001b[0;34m=\u001b[0m\u001b[0;34m\"PIAIC Student card\\nstudent name:\\t\"\u001b[0m\u001b[0;34m+\u001b[0m\u001b[0mname\u001b[0m\u001b[0;34m+\u001b[0m\u001b[0;34m\"\\n Father name:\\t\"\u001b[0m\u001b[0;34m+\u001b[0m\u001b[0mfname\u001b[0m\u001b[0;34m+\u001b[0m\u001b[0;34m\"\\nage\"\u001b[0m\u001b[0;34m+\u001b[0m\u001b[0mage\u001b[0m\u001b[0;34m\u001b[0m\u001b[0;34m\u001b[0m\u001b[0m\n\u001b[0m\u001b[1;32m      7\u001b[0m \u001b[0mprint\u001b[0m\u001b[0;34m(\u001b[0m\u001b[0mcard\u001b[0m\u001b[0;34m)\u001b[0m\u001b[0;34m\u001b[0m\u001b[0;34m\u001b[0m\u001b[0m\n",
            "\u001b[0;31mTypeError\u001b[0m: can only concatenate str (not \"int\") to str"
          ]
        }
      ]
    },
    {
      "cell_type": "code",
      "source": [
        "name:str=\"ali\"\n",
        "fname:str=\"khan\"\n",
        "age:int=12\n",
        "edu:str=\"BSCS\"\n",
        "\n",
        "card=str =\"PIAIC Student card\\nstudent name:\\t\"+name+\"\\n Father name:\\t\"+fname+\"\\nage:\\t\"+str(age)\n",
        "print(card)"
      ],
      "metadata": {
        "colab": {
          "base_uri": "https://localhost:8080/",
          "height": 227
        },
        "id": "W03akW4J9SLD",
        "outputId": "0944be3f-6e67-4174-c42c-f8f3f29dec3e"
      },
      "execution_count": null,
      "outputs": [
        {
          "output_type": "error",
          "ename": "TypeError",
          "evalue": "ignored",
          "traceback": [
            "\u001b[0;31m---------------------------------------------------------------------------\u001b[0m",
            "\u001b[0;31mTypeError\u001b[0m                                 Traceback (most recent call last)",
            "\u001b[0;32m<ipython-input-30-022677a9c6d3>\u001b[0m in \u001b[0;36m<cell line: 6>\u001b[0;34m()\u001b[0m\n\u001b[1;32m      4\u001b[0m \u001b[0medu\u001b[0m\u001b[0;34m:\u001b[0m\u001b[0mstr\u001b[0m\u001b[0;34m=\u001b[0m\u001b[0;34m\"BSCS\"\u001b[0m\u001b[0;34m\u001b[0m\u001b[0;34m\u001b[0m\u001b[0m\n\u001b[1;32m      5\u001b[0m \u001b[0;34m\u001b[0m\u001b[0m\n\u001b[0;32m----> 6\u001b[0;31m \u001b[0mcard\u001b[0m\u001b[0;34m=\u001b[0m\u001b[0mstr\u001b[0m \u001b[0;34m=\u001b[0m\u001b[0;34m\"PIAIC Student card\\nstudent name:\\t\"\u001b[0m\u001b[0;34m+\u001b[0m\u001b[0mname\u001b[0m\u001b[0;34m+\u001b[0m\u001b[0;34m\"\\n Father name:\\t\"\u001b[0m\u001b[0;34m+\u001b[0m\u001b[0mfname\u001b[0m\u001b[0;34m+\u001b[0m\u001b[0;34m\"\\nage:\\t\"\u001b[0m\u001b[0;34m+\u001b[0m\u001b[0mstr\u001b[0m\u001b[0;34m(\u001b[0m\u001b[0mage\u001b[0m\u001b[0;34m)\u001b[0m\u001b[0;34m\u001b[0m\u001b[0;34m\u001b[0m\u001b[0m\n\u001b[0m\u001b[1;32m      7\u001b[0m \u001b[0mprint\u001b[0m\u001b[0;34m(\u001b[0m\u001b[0mcard\u001b[0m\u001b[0;34m)\u001b[0m\u001b[0;34m\u001b[0m\u001b[0;34m\u001b[0m\u001b[0m\n",
            "\u001b[0;31mTypeError\u001b[0m: 'str' object is not callable"
          ]
        }
      ]
    },
    {
      "cell_type": "code",
      "source": [
        "name:str=\"ali\"\n",
        "fname:str=\"khan\"\n",
        "age:int=123\n",
        "edu:str=\"BSCS\"\n",
        "\n",
        "card:str=f\"\"\"\n",
        "PIAIC student Card\n",
        "student Name:\\t{name}\n",
        "\"\"\"\n",
        "print(card)"
      ],
      "metadata": {
        "colab": {
          "base_uri": "https://localhost:8080/"
        },
        "id": "CmdesC5d91LF",
        "outputId": "d64334d2-fbbc-476f-fc34-844dfe21d13e"
      },
      "execution_count": null,
      "outputs": [
        {
          "output_type": "stream",
          "name": "stdout",
          "text": [
            "\n",
            "PIAIC student Card\n",
            "student Name:\tali\n",
            "\n"
          ]
        }
      ]
    },
    {
      "cell_type": "code",
      "source": [
        "#using f infront of string\n",
        "name:str=\"ali\"\n",
        "fname:str=\"khan\"\n",
        "age:int=123\n",
        "edu:str=\"BSCS\"\n",
        "\n",
        "card:str=f\"\"\"\n",
        "PIAIC student Card\n",
        "student Name:\\t{name}\n",
        "age:\\t{age}\n",
        "education:\\t{edu}\n",
        "\"\"\"\n",
        "print(card)"
      ],
      "metadata": {
        "colab": {
          "base_uri": "https://localhost:8080/"
        },
        "id": "MGGgF37r-QEf",
        "outputId": "215804bd-f140-47b9-a22d-dd209b70a23a"
      },
      "execution_count": null,
      "outputs": [
        {
          "output_type": "stream",
          "name": "stdout",
          "text": [
            "\n",
            "PIAIC student Card\n",
            "student Name:\tali\n",
            "age:\t123\n",
            "education:\tBSCS\n",
            "\n"
          ]
        }
      ]
    },
    {
      "cell_type": "code",
      "source": [
        "#using f infront of string\n",
        "name:str=\"ali\"\n",
        "fname:str=\"khan\"\n",
        "age:int=123\n",
        "edu:str=\"BSCS\"\n",
        "\n",
        "card:str=f\"\"\"\n",
        "PIAIC student Card\n",
        "student Name:\\t{name}\n",
        "age:\\t{age}\n",
        "education:\\t{edu}\n",
        "\"\"\".format(name,fname,age,edu)\n",
        "print(card)"
      ],
      "metadata": {
        "colab": {
          "base_uri": "https://localhost:8080/"
        },
        "id": "9vCj4CNJ-y3K",
        "outputId": "79213863-fa4c-4aa6-99be-b61bc4e247fd"
      },
      "execution_count": null,
      "outputs": [
        {
          "output_type": "stream",
          "name": "stdout",
          "text": [
            "\n",
            "PIAIC student Card\n",
            "student Name:\tali\n",
            "age:\t123\n",
            "education:\tBSCS\n",
            "\n"
          ]
        }
      ]
    },
    {
      "cell_type": "code",
      "source": [
        "#using f infront of string\n",
        "name:str=\"ali\"\n",
        "fname:str=\"khan\"\n",
        "age:int=123\n",
        "edu:str=\"BSCS\"\n",
        "\n",
        "card:str=\"\"\"\n",
        "PIAIC student Card\n",
        "student Name:\\t{}\n",
        "age:\\t{}\n",
        "education:\\t{}\n",
        "\"\"\".format(age,name,edu)\n",
        "print(card)"
      ],
      "metadata": {
        "colab": {
          "base_uri": "https://localhost:8080/"
        },
        "id": "h8AN1HaQ_Ct6",
        "outputId": "18eddec9-04b8-4b1b-bb28-d9e52ac3c636"
      },
      "execution_count": null,
      "outputs": [
        {
          "output_type": "stream",
          "name": "stdout",
          "text": [
            "\n",
            "PIAIC student Card\n",
            "student Name:\t123\n",
            "age:\tali\n",
            "education:\tBSCS\n",
            "\n"
          ]
        }
      ]
    },
    {
      "cell_type": "code",
      "source": [
        "#using f infront of string\n",
        "name:str=\"ali\"\n",
        "fname:str=\"khan\"\n",
        "age:int=123\n",
        "edu:str=\"BSCS\"\n",
        "\n",
        "card:str=\"\"\"\n",
        "PIAIC student Card\n",
        "student Name:\\t{q}\n",
        "age:\\t{w}\n",
        "education:\\t{e}\n",
        "\"\"\".format(w=age,q=name,e=edu)\n",
        "print(card)"
      ],
      "metadata": {
        "colab": {
          "base_uri": "https://localhost:8080/"
        },
        "id": "PN_DUnhf_2JF",
        "outputId": "b0d81cf1-266e-408f-f98d-0ec2c6fd3de0"
      },
      "execution_count": null,
      "outputs": [
        {
          "output_type": "stream",
          "name": "stdout",
          "text": [
            "\n",
            "PIAIC student Card\n",
            "student Name:\tali\n",
            "age:\t123\n",
            "education:\tBSCS\n",
            "\n"
          ]
        }
      ]
    },
    {
      "cell_type": "code",
      "source": [
        "#old style c convention\n",
        "name:str=\"ali\"\n",
        "fname:str=\"khan\"\n",
        "age:int=123\n",
        "edu:str=\"BSCS\"\n",
        "\n",
        "card:str=\"\"\"\n",
        "PIAIC student Card\n",
        "student Name:\\t{}%\n",
        "fname:tfname{}%\n",
        "age:\\t{}%\n",
        "education:\\t{}%\n",
        "\"\"\".format(name,fname,age,edu)\n",
        "print(card)"
      ],
      "metadata": {
        "colab": {
          "base_uri": "https://localhost:8080/"
        },
        "id": "LEkYqjvu__wA",
        "outputId": "6f729c68-6332-49e7-c7d4-a1ed5be753da"
      },
      "execution_count": null,
      "outputs": [
        {
          "output_type": "stream",
          "name": "stdout",
          "text": [
            "\n",
            "PIAIC student Card\n",
            "student Name:\tali%\n",
            "fname:tfnamekhan%\n",
            "age:\t123%\n",
            "education:\tBSCS%\n",
            "\n"
          ]
        }
      ]
    },
    {
      "cell_type": "code",
      "source": [
        "#old style c convention\n",
        "name:str=\"ali\"\n",
        "fname:str=\"khan\"\n",
        "age:int=123\n",
        "edu:str=\"BSCS\"\n",
        "\n",
        "\n",
        "card:str=f\"\"\"\n",
        "PIAIC student Card\n",
        "student Name:\\t{name}\n",
        "fname:tfname{fname}\n",
        "age:\\t{age}\n",
        "education:\\t{edu}\n",
        "Total:\\t{10+34+65}\n",
        "\"\"\"\n",
        "print(card)"
      ],
      "metadata": {
        "colab": {
          "base_uri": "https://localhost:8080/"
        },
        "id": "6kKz1M3_AsGO",
        "outputId": "d632d12e-f4f4-470b-e176-49977ea4ad62"
      },
      "execution_count": null,
      "outputs": [
        {
          "output_type": "stream",
          "name": "stdout",
          "text": [
            "\n",
            "PIAIC student Card\n",
            "student Name:\tali\n",
            "fname:tfnamekhan\n",
            "age:\t123\n",
            "education:\tBSCS\n",
            "Total:\t109\n",
            "\n"
          ]
        }
      ]
    }
  ]
}